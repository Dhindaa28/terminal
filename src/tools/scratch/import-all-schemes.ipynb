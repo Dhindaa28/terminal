{
 "cells": [
  {
   "cell_type": "markdown",
   "metadata": {},
   "source": [
    "# ITerm2 schemes for the Terminal\n",
    "\n",
    "This is a little helper script to gather up all the color schemes in [mbadolato/iTerm2-Color-Schemes](https://github.com/mbadolato/iTerm2-Color-Schemes), and put them in a single fragment extension for the Terminal. \n",
    "\n",
    "\n"
   ]
  },
  {
   "cell_type": "code",
   "execution_count": 4,
   "metadata": {
    "dotnet_interactive": {
     "language": "pwsh"
    },
    "polyglot_notebook": {
     "kernelName": "pwsh"
    }
   },
   "outputs": [
    {
     "name": "stdout",
     "output_type": "stream",
     "text": [
      "\u001b[31;1mCloning into 'iTerm2-Color-Schemes'...\u001b[0m\n",
      "\u001b[31;1mUpdating files:  22% (2197/9870)\u001b[0m\n",
      "\u001b[31;1mUpdating files:  23% (2271/9870)\u001b[0m\n",
      "\u001b[31;1mUpdating files:  24% (2369/9870)\u001b[0m\n",
      "\u001b[31;1mUpdating files:  25% (2468/9870)\u001b[0m\n",
      "\u001b[31;1mUpdating files:  26% (2567/9870)\u001b[0m\n",
      "\u001b[31;1mUpdating files:  27% (2665/9870)\u001b[0m\n",
      "\u001b[31;1mUpdating files:  28% (2764/9870)\u001b[0m\n",
      "\u001b[31;1mUpdating files:  29% (2863/9870)\u001b[0m\n",
      "\u001b[31;1mUpdating files:  30% (2961/9870)\u001b[0m\n",
      "\u001b[31;1mUpdating files:  31% (3060/9870)\u001b[0m\n",
      "\u001b[31;1mUpdating files:  32% (3159/9870)\u001b[0m\n",
      "\u001b[31;1mUpdating files:  33% (3258/9870)\u001b[0m\n",
      "\u001b[31;1mUpdating files:  34% (3356/9870)\u001b[0m\n",
      "\u001b[31;1mUpdating files:  35% (3455/9870)\u001b[0m\n",
      "\u001b[31;1mUpdating files:  36% (3554/9870)\u001b[0m\n",
      "\u001b[31;1mUpdating files:  37% (3652/9870)\u001b[0m\n",
      "\u001b[31;1mUpdating files:  38% (3751/9870)\u001b[0m\n",
      "\u001b[31;1mUpdating files:  39% (3850/9870)\u001b[0m\n",
      "\u001b[31;1mUpdating files:  40% (3948/9870)\u001b[0m\n",
      "\u001b[31;1mUpdating files:  41% (4047/9870)\u001b[0m\n",
      "\u001b[31;1mUpdating files:  42% (4146/9870)\u001b[0m\n",
      "\u001b[31;1mUpdating files:  42% (4242/9870)\u001b[0m\n",
      "\u001b[31;1mUpdating files:  43% (4245/9870)\u001b[0m\n",
      "\u001b[31;1mUpdating files:  44% (4343/9870)\u001b[0m\n",
      "\u001b[31;1mUpdating files:  45% (4442/9870)\u001b[0m\n",
      "\u001b[31;1mUpdating files:  46% (4541/9870)\u001b[0m\n",
      "\u001b[31;1mUpdating files:  47% (4639/9870)\u001b[0m\n",
      "\u001b[31;1mUpdating files:  48% (4738/9870)\u001b[0m\n",
      "\u001b[31;1mUpdating files:  49% (4837/9870)\u001b[0m\n",
      "\u001b[31;1mUpdating files:  50% (4935/9870)\u001b[0m\n",
      "\u001b[31;1mUpdating files:  51% (5034/9870)\u001b[0m\n",
      "\u001b[31;1mUpdating files:  52% (5133/9870)\u001b[0m\n",
      "\u001b[31;1mUpdating files:  53% (5232/9870)\u001b[0m\n",
      "\u001b[31;1mUpdating files:  54% (5330/9870)\u001b[0m\n",
      "\u001b[31;1mUpdating files:  55% (5429/9870)\u001b[0m\n",
      "\u001b[31;1mUpdating files:  56% (5528/9870)\u001b[0m\n",
      "\u001b[31;1mUpdating files:  57% (5626/9870)\u001b[0m\n",
      "\u001b[31;1mUpdating files:  58% (5725/9870)\u001b[0m\n",
      "\u001b[31;1mUpdating files:  59% (5824/9870)\u001b[0m\n",
      "\u001b[31;1mUpdating files:  60% (5922/9870)\u001b[0m\n",
      "\u001b[31;1mUpdating files:  60% (5944/9870)\u001b[0m\n",
      "\u001b[31;1mUpdating files:  61% (6021/9870)\u001b[0m\n",
      "\u001b[31;1mUpdating files:  62% (6120/9870)\u001b[0m\n",
      "\u001b[31;1mUpdating files:  63% (6219/9870)\u001b[0m\n",
      "\u001b[31;1mUpdating files:  64% (6317/9870)\u001b[0m\n",
      "\u001b[31;1mUpdating files:  65% (6416/9870)\u001b[0m\n",
      "\u001b[31;1mUpdating files:  66% (6515/9870)\u001b[0m\n",
      "\u001b[31;1mUpdating files:  67% (6613/9870)\u001b[0m\n",
      "\u001b[31;1mUpdating files:  68% (6712/9870)\u001b[0m\n",
      "\u001b[31;1mUpdating files:  69% (6811/9870)\u001b[0m\n",
      "\u001b[31;1mUpdating files:  70% (6909/9870)\u001b[0m\n",
      "\u001b[31;1mUpdating files:  71% (7008/9870)\u001b[0m\n",
      "\u001b[31;1mUpdating files:  72% (7107/9870)\u001b[0m\n",
      "\u001b[31;1mUpdating files:  73% (7206/9870)\u001b[0m\n",
      "\u001b[31;1mUpdating files:  74% (7304/9870)\u001b[0m\n",
      "\u001b[31;1mUpdating files:  75% (7403/9870)\u001b[0m\n",
      "\u001b[31;1mUpdating files:  76% (7502/9870)\u001b[0m\n",
      "\u001b[31;1mUpdating files:  77% (7600/9870)\u001b[0m\n",
      "\u001b[31;1mUpdating files:  78% (7699/9870)\u001b[0m\n",
      "\u001b[31;1mUpdating files:  79% (7798/9870)\u001b[0m\n",
      "\u001b[31;1mUpdating files:  80% (7896/9870)\u001b[0m\n",
      "\u001b[31;1mUpdating files:  80% (7963/9870)\u001b[0m\n",
      "\u001b[31;1mUpdating files:  81% (7995/9870)\u001b[0m\n",
      "\u001b[31;1mUpdating files:  82% (8094/9870)\u001b[0m\n",
      "\u001b[31;1mUpdating files:  83% (8193/9870)\u001b[0m\n",
      "\u001b[31;1mUpdating files:  84% (8291/9870)\u001b[0m\n",
      "\u001b[31;1mUpdating files:  85% (8390/9870)\u001b[0m\n",
      "\u001b[31;1mUpdating files:  86% (8489/9870)\u001b[0m\n",
      "\u001b[31;1mUpdating files:  87% (8587/9870)\u001b[0m\n",
      "\u001b[31;1mUpdating files:  88% (8686/9870)\u001b[0m\n",
      "\u001b[31;1mUpdating files:  89% (8785/9870)\u001b[0m\n",
      "\u001b[31;1mUpdating files:  90% (8883/9870)\u001b[0m\n",
      "\u001b[31;1mUpdating files:  91% (8982/9870)\u001b[0m\n",
      "\u001b[31;1mUpdating files:  92% (9081/9870)\u001b[0m\n",
      "\u001b[31;1mUpdating files:  93% (9180/9870)\u001b[0m\n",
      "\u001b[31;1mUpdating files:  94% (9278/9870)\u001b[0m\n",
      "\u001b[31;1mUpdating files:  95% (9377/9870)\u001b[0m\n",
      "\u001b[31;1mUpdating files:  96% (9476/9870)\u001b[0m\n",
      "\u001b[31;1mUpdating files:  97% (9574/9870)\u001b[0m\n",
      "\u001b[31;1mUpdating files:  98% (9673/9870)\u001b[0m\n",
      "\u001b[31;1mUpdating files:  99% (9772/9870)\u001b[0m\n",
      "\u001b[31;1mUpdating files: 100% (9870/9870)\u001b[0m\n",
      "\u001b[31;1mUpdating files: 100% (9870/9870), done.\u001b[0m\n"
     ]
    }
   ],
   "source": [
    "# Clone the repo into the temp directory\n",
    "\n",
    "cd \"$env:TEMP\"\n",
    "if (Test-Path -Path \"$env:TEMP\\iTerm2-Color-Schemes\") {\n",
    "    Remove-Item -Recurse -Force \"$env:TEMP\\iTerm2-Color-Schemes\"\n",
    "}\n",
    "git clone --depth 1 https://github.com/mbadolato/iTerm2-Color-Schemes.git\n",
    "\n",
    "cd \"$env:TEMP\\iTerm2-Color-Schemes\""
   ]
  },
  {
   "cell_type": "code",
   "execution_count": 13,
   "metadata": {
    "dotnet_interactive": {
     "language": "pwsh"
    },
    "polyglot_notebook": {
     "kernelName": "pwsh"
    }
   },
   "outputs": [
    {
     "name": "stdout",
     "output_type": "stream",
     "text": [
      "Found 319 schemes\n",
      "\n",
      "    Directory: C:\\Users\\migrie\\AppData\\Local\\Microsoft\\Windows Terminal\\Fragments\n",
      "\n",
      "\u001b[32;1mMode   \u001b[0m\u001b[32;1m              LastWriteTime\u001b[0m \u001b[32;1;3m        Length\u001b[0m\u001b[32;1m Name\u001b[0m\n",
      "\u001b[32;1m----   \u001b[0m \u001b[32;1m             -------------\u001b[0m \u001b[32;1m        ------\u001b[0m \u001b[32;1m----\u001b[0m\n",
      "d----           3/27/2024 11:30 AM                \u001b[44;1mAllColorSchemes\u001b[0m\n",
      "\n"
     ]
    }
   ],
   "source": [
    "# Iterate over all the files in the `windowsterminal` directory\n",
    "\n",
    "$allSchemesFiles = Get-ChildItem -Path \"$env:TEMP\\iTerm2-Color-Schemes\\windowsterminal\" -Filter *.json\n",
    "$allSchemeJsons = @()\n",
    "\n",
    "$allSchemesFiles | ForEach-Object {\n",
    "    $json = Get-Content $_.FullName -Raw | ConvertFrom-Json\n",
    "    $allSchemeJsons += $json\n",
    "}\n",
    "\n",
    "Write-host \"Found $($allSchemeJsons.Count) schemes\"\n",
    "\n",
    "\n",
    "# Create a new fragment json in the temp directory with all the schemes added to a \"schemes\" array\n",
    "\n",
    "$fragmentJson = @{\n",
    "    \"schemes\" = $allSchemeJsons\n",
    "} | ConvertTo-Json\n",
    "\n",
    "# $fragmentJson | Set-Content -Path \"$env:TEMP\\all-schemes.json\"\n",
    "\n",
    "# Remove the existing fragment json if it exists\n",
    "$fragmentDir = $env:LOCALAPPDATA + \"\\Microsoft\\Windows Terminal\\Fragments\\AllColorSchemes\"\n",
    "$fragmentPath = $fragmentDir + \"\\schemes.json\"\n",
    "if (Test-Path -Path $fragmentPath) {\n",
    "    Remove-Item -Path $fragmentPath\n",
    "}\n",
    "# make sure the directory exists\n",
    "New-Item -Path $fragmentDir -ItemType Directory -Force\n",
    "\n",
    "# Write the fragment json to the fragments directory\n",
    "Write-Output $fragmentJson | Out-File $fragmentPath -Encoding Utf8"
   ]
  }
 ],
 "metadata": {
  "kernelspec": {
   "display_name": ".NET (PowerShell)",
   "language": "PowerShell",
   "name": ".net-pwsh"
  },
  "language_info": {
   "name": "polyglot-notebook"
  },
  "polyglot_notebook": {
   "kernelInfo": {
    "defaultKernelName": "pwsh",
    "items": [
     {
      "aliases": [],
      "languageName": "pwsh",
      "name": "pwsh"
     }
    ]
   }
  }
 },
 "nbformat": 4,
 "nbformat_minor": 2
}
